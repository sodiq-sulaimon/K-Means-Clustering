{
 "cells": [
  {
   "cell_type": "code",
   "execution_count": 3,
   "id": "6c70e6ec",
   "metadata": {},
   "outputs": [],
   "source": [
    "import numpy as np"
   ]
  },
  {
   "cell_type": "markdown",
   "id": "a4a93532",
   "metadata": {},
   "source": [
    "#### Exercise 1\n",
    "Your task is to complete the code in find_closest_centroids"
   ]
  },
  {
   "cell_type": "code",
   "execution_count": 4,
   "id": "3b2881de",
   "metadata": {},
   "outputs": [],
   "source": [
    "def find_closest_centroids(X, centroids):\n",
    "\n",
    "    # Set K\n",
    "    K = centroids.shape[0]\n",
    "    c = X.shape[0]\n",
    "\n",
    "    # You need to return the following variables correctly\n",
    "    idx = np.zeros(X.shape[0], dtype=int)\n",
    "\n",
    "    for i in range(c):\n",
    "        distance= []\n",
    "        for j in range(K):\n",
    "            norm_ij = np.linalg.norm(X[i] - centroids[j]) ** 2\n",
    "            distance.append(norm_ij)\n",
    "        idx[i] = np.argmin(distance)\n",
    "    \n",
    "    return idx"
   ]
  },
  {
   "cell_type": "markdown",
   "id": "dfeb02d7",
   "metadata": {},
   "source": [
    " #### Exercise 2\n",
    " Complete the compute_centroids below to recompute the value for each centroid"
   ]
  },
  {
   "cell_type": "code",
   "execution_count": 5,
   "id": "46ae34f2",
   "metadata": {},
   "outputs": [],
   "source": [
    "# UNQ_C2\n",
    "# GRADED FUNCTION: compute_centpods\n",
    "\n",
    "def compute_centroids(X, idx, K):\n",
    "    \n",
    "    # Useful variables\n",
    "    m, n = X.shape\n",
    "    \n",
    "    # You need to return the following variables correctly\n",
    "    centroids = np.zeros((K, n))\n",
    "    \n",
    "    for k in range(K):\n",
    "        points = X[idx == k]\n",
    "        centroids[k] = np.mean(points, axis=0)\n",
    "\n",
    "    \n",
    "    return centroids"
   ]
  },
  {
   "cell_type": "code",
   "execution_count": null,
   "id": "a165c720",
   "metadata": {},
   "outputs": [],
   "source": []
  }
 ],
 "metadata": {
  "kernelspec": {
   "display_name": "Python 3 (ipykernel)",
   "language": "python",
   "name": "python3"
  },
  "language_info": {
   "codemirror_mode": {
    "name": "ipython",
    "version": 3
   },
   "file_extension": ".py",
   "mimetype": "text/x-python",
   "name": "python",
   "nbconvert_exporter": "python",
   "pygments_lexer": "ipython3",
   "version": "3.9.12"
  }
 },
 "nbformat": 4,
 "nbformat_minor": 5
}
